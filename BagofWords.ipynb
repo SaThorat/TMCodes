{
 "cells": [
  {
   "cell_type": "markdown",
   "id": "3829e7a4",
   "metadata": {},
   "source": [
    "# Code Demonstrating Bag of Words "
   ]
  },
  {
   "cell_type": "markdown",
   "id": "b42e161c",
   "metadata": {},
   "source": [
    "## Import the **`CountVectorizer`** class from the **`sklearn.feature_extraction.text`** module. This class helps us create the bag of words representation."
   ]
  },
  {
   "cell_type": "code",
   "execution_count": 3,
   "id": "dab39cd0",
   "metadata": {},
   "outputs": [],
   "source": [
    "from sklearn.feature_extraction.text import CountVectorizer"
   ]
  },
  {
   "cell_type": "markdown",
   "id": "77ad482d",
   "metadata": {},
   "source": [
    "## Define a list named **`sentences`** containing three sample sentences that we want to analyze using the bag of words approach."
   ]
  },
  {
   "cell_type": "code",
   "execution_count": 4,
   "id": "3a3525eb",
   "metadata": {},
   "outputs": [],
   "source": [
    "sentences = [\n",
    "    \"I love to play cricket\",\n",
    "    \"cricket is exciting sport\",\n",
    "    \"playing cricket is a great habit\"\n",
    "]"
   ]
  },
  {
   "cell_type": "code",
   "execution_count": 5,
   "id": "fd9a6118",
   "metadata": {},
   "outputs": [],
   "source": [
    "# Initialize the CountVectorizer\n",
    "vectorizer = CountVectorizer()"
   ]
  },
  {
   "cell_type": "markdown",
   "id": "3508724a",
   "metadata": {},
   "source": [
    "## Created an object of the **`CountVectorizer`** class. This object is helpful to convert the text data into a bag of words representation."
   ]
  },
  {
   "cell_type": "code",
   "execution_count": 6,
   "id": "7cb7372a",
   "metadata": {},
   "outputs": [],
   "source": [
    "# Fit and transform the sentences to create the bag of words representation\n",
    "bag_of_words = vectorizer.fit_transform(sentences)"
   ]
  },
  {
   "cell_type": "markdown",
   "id": "56801828",
   "metadata": {},
   "source": [
    "## The **`fit_transform`** method is used to convert the list of sentences into a bag of words representation. This method fits the vectorizer to the text data and transforms the sentences into a matrix"
   ]
  },
  {
   "cell_type": "code",
   "execution_count": 12,
   "id": "8da857bd",
   "metadata": {},
   "outputs": [
    {
     "name": "stdout",
     "output_type": "stream",
     "text": [
      "Vocabulary: ['cricket' 'exciting' 'great' 'habit' 'is' 'love' 'play' 'playing' 'sport'\n",
      " 'to']\n"
     ]
    }
   ],
   "source": [
    "# Get the vocabulary (unique words) and their indices. We retrieve the vocabulary, which consists of the unique words found in the sentences, using the **`get_feature_names_out()`** method of the vectorizer.\n",
    "vocab = vectorizer.get_feature_names_out()\n",
    "print(\"Vocabulary:\", vocab)"
   ]
  },
  {
   "cell_type": "code",
   "execution_count": 13,
   "id": "26cc2eb5",
   "metadata": {},
   "outputs": [
    {
     "name": "stdout",
     "output_type": "stream",
     "text": [
      "Bag of Words Representation:\n",
      " [[1 0 0 0 0 1 1 0 0 1]\n",
      " [1 1 0 0 1 0 0 0 1 0]\n",
      " [1 0 1 1 1 0 0 1 0 0]]\n"
     ]
    }
   ],
   "source": [
    "# Convert the bag_of_words matrix to an array\n",
    "bag_of_words_array = bag_of_words.toarray()\n",
    "print(\"Bag of Words Representation:\\n\", bag_of_words_array)"
   ]
  },
  {
   "cell_type": "markdown",
   "id": "8d91ca95",
   "metadata": {},
   "source": [
    "## Use the **`toarray()`** method to convert the bag of words matrix into a 2D NumPy array named **`bag_of_words_array`**. Each row of this array corresponds to a sentence, and each column corresponds to a word in the vocabulary. The array contains the word counts for each word in each sentence."
   ]
  },
  {
   "cell_type": "code",
   "execution_count": null,
   "id": "225d9abb",
   "metadata": {},
   "outputs": [],
   "source": []
  }
 ],
 "metadata": {
  "kernelspec": {
   "display_name": "Python 3 (ipykernel)",
   "language": "python",
   "name": "python3"
  },
  "language_info": {
   "codemirror_mode": {
    "name": "ipython",
    "version": 3
   },
   "file_extension": ".py",
   "mimetype": "text/x-python",
   "name": "python",
   "nbconvert_exporter": "python",
   "pygments_lexer": "ipython3",
   "version": "3.9.12"
  }
 },
 "nbformat": 4,
 "nbformat_minor": 5
}
