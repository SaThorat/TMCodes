{
 "cells": [
  {
   "cell_type": "markdown",
   "id": "3c14bede",
   "metadata": {},
   "source": [
    "# Word2Vec using gensim pre-trained model"
   ]
  },
  {
   "cell_type": "markdown",
   "id": "563cc382",
   "metadata": {},
   "source": [
    "## Preamble \n",
    "Gensim is a free open-source Python library for representing documents as semantic vectors, as efficiently (computer-wise) and painlessly (human-wise) as possible.\n",
    "Link :\n",
    "1) https://pypi.org/project/gensim/\n",
    "\n",
    "2) https://radimrehurek.com/gensim/models/word2vec.html#gensim.models.word2vec.Word2Vec"
   ]
  },
  {
   "cell_type": "code",
   "execution_count": 5,
   "id": "d0ec0bff",
   "metadata": {},
   "outputs": [],
   "source": [
    "import gensim  # gensim library is a python library or word2vec model for document indexing ,similarity retrival ."
   ]
  },
  {
   "cell_type": "code",
   "execution_count": 1,
   "id": "5fc75ddd",
   "metadata": {},
   "outputs": [],
   "source": [
    "# Gensim comes with several already pre-trained models, in the Gensim-data repository:\n",
    "import gensim.downloader  #download the gensim library"
   ]
  },
  {
   "cell_type": "code",
   "execution_count": 8,
   "id": "fb69fa68",
   "metadata": {},
   "outputs": [],
   "source": [
    "# load the word2vec-google-new-300 dataset that is google news dataset by google has a feature of diamension 300. Size of this dataset is approximately 1.6 GB\n",
    "google_news_vectorsss = gensim.downloader.load('word2vec-google-news-300')"
   ]
  },
  {
   "cell_type": "code",
   "execution_count": 9,
   "id": "90fa50d1",
   "metadata": {},
   "outputs": [
    {
     "name": "stdout",
     "output_type": "stream",
     "text": [
      "Find Capitals of Britain: (Paris - France) + Britain - - -\n",
      "[('London', 0.7541897892951965), ('British', 0.5711293816566467)]\n"
     ]
    }
   ],
   "source": [
    "# Find Capitals of Britain given Capitals of France: (Paris - France) + Britain =   \n",
    "print(\"Find Capitals of Britain: (Paris - France) + Britain - - -\")  \n",
    "capitals = google_news_vectorsss.most_similar([\"Paris\", \"Britain\"], [\"France\"], topn=2)  \n",
    "#most_similar function is used for finding the similar words of list of the word vectors. \n",
    "#topn is used for retriving the top n no. of word vectors.\n",
    "print(capitals)  "
   ]
  },
  {
   "cell_type": "code",
   "execution_count": 10,
   "id": "abe32951",
   "metadata": {},
   "outputs": [],
   "source": [
    "capitals = google_news_vectorsss.most_similar([\"Paris\", \"Britain\"], [\"France\"], topn=2)  \n",
    "#most_similar function is used for finding the similar words of list of the word vectors. \n",
    "#topn is used for retriving the top n no. of word vectors."
   ]
  },
  {
   "cell_type": "code",
   "execution_count": 11,
   "id": "a93ef77f",
   "metadata": {},
   "outputs": [
    {
     "name": "stdout",
     "output_type": "stream",
     "text": [
      "[('London', 0.7541897892951965), ('British', 0.5711293816566467)]\n"
     ]
    }
   ],
   "source": [
    "print(capitals)  "
   ]
  },
  {
   "cell_type": "code",
   "execution_count": 12,
   "id": "44672bcc",
   "metadata": {},
   "outputs": [
    {
     "name": "stdout",
     "output_type": "stream",
     "text": [
      "Find Capitals of German: (Berlin - Germany) + German - - -\n",
      "[('Munich', 0.5476104021072388)]\n",
      "\n"
     ]
    }
   ],
   "source": [
    "# Find Capitals of German given Capitals of Germany: (Berlin - Germany) + German =   \n",
    "print(\"Find Capitals of German: (Berlin - Germany) + German - - -\")  \n",
    "capitals = google_news_vectorsss.most_similar([\"Berlin\", \"German\"], [\"Germany\"], topn=1)  \n",
    "print(capitals)  \n",
    "print()"
   ]
  },
  {
   "cell_type": "code",
   "execution_count": 13,
   "id": "9b738ba6",
   "metadata": {},
   "outputs": [
    {
     "name": "stdout",
     "output_type": "stream",
     "text": [
      "five similar words to BMW: - - -\n",
      "('Audi', 0.7932199835777283)\n",
      "('Mercedes_Benz', 0.7683466672897339)\n",
      "('Porsche', 0.7272197604179382)\n",
      "('Mercedes', 0.7078384757041931)\n",
      "('Volkswagen', 0.6959410905838013)\n",
      "\n"
     ]
    }
   ],
   "source": [
    "# Find words same like BMW  \n",
    "print(\"five similar words to BMW: - - -\")  \n",
    "words1 = google_news_vectorsss.most_similar(\"BMW\", topn=5)  \n",
    "for word in words1:  \n",
    "  print(word)  \n",
    "print()  "
   ]
  },
  {
   "cell_type": "code",
   "execution_count": 14,
   "id": "67e9239f",
   "metadata": {},
   "outputs": [
    {
     "name": "stdout",
     "output_type": "stream",
     "text": [
      "3 similar words to beautiful: - - -\n",
      "('gorgeous', 0.8353003263473511)\n",
      "('lovely', 0.8106936812400818)\n",
      "('stunningly_beautiful', 0.7329413294792175)\n",
      "\n"
     ]
    }
   ],
   "source": [
    "# Find words same like word Beautiful  \n",
    "print(\"3 similar words to beautiful: - - -\")  \n",
    "words = google_news_vectorsss.most_similar(\"beautiful\", topn=3)  \n",
    "for w in words:  \n",
    "  print(w)  \n",
    "print()   "
   ]
  },
  {
   "cell_type": "code",
   "execution_count": 15,
   "id": "4a711d76",
   "metadata": {},
   "outputs": [
    {
     "name": "stdout",
     "output_type": "stream",
     "text": [
      "Cosine similarity between battle and fight: - - - - - - 0.7021284\n",
      "\n"
     ]
    }
   ],
   "source": [
    "# Find cosine same like word between battle and fight   \n",
    "cosine = google_news_vectorsss.similarity(\"battle\", \"fight\") \n",
    "#similarity method is used for comparing the similarities between list of words \n",
    "print(\"Cosine similarity between battle and fight: - - - - - -\", cosine)  \n",
    "print()"
   ]
  },
  {
   "cell_type": "code",
   "execution_count": 16,
   "id": "cf95ee2b",
   "metadata": {},
   "outputs": [
    {
     "name": "stdout",
     "output_type": "stream",
     "text": [
      "Cosine similarity between fight and like: - - - - - - 0.12138153\n"
     ]
    }
   ],
   "source": [
    "# Find cosine same like word between fight and like  \n",
    "cosine = google_news_vectorsss.similarity(\"fight\", \"like\")  \n",
    "print(\"Cosine similarity between fight and like: - - - - - -\", cosine)"
   ]
  },
  {
   "cell_type": "code",
   "execution_count": null,
   "id": "85cded3c",
   "metadata": {},
   "outputs": [],
   "source": []
  }
 ],
 "metadata": {
  "kernelspec": {
   "display_name": "Python 3 (ipykernel)",
   "language": "python",
   "name": "python3"
  },
  "language_info": {
   "codemirror_mode": {
    "name": "ipython",
    "version": 3
   },
   "file_extension": ".py",
   "mimetype": "text/x-python",
   "name": "python",
   "nbconvert_exporter": "python",
   "pygments_lexer": "ipython3",
   "version": "3.9.12"
  }
 },
 "nbformat": 4,
 "nbformat_minor": 5
}
