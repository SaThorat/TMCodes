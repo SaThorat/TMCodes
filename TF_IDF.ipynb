{
 "cells": [
  {
   "cell_type": "markdown",
   "id": "da14a97b",
   "metadata": {},
   "source": [
    "## Demonstration of TF-IDF"
   ]
  },
  {
   "cell_type": "code",
   "execution_count": 6,
   "id": "fa276b50",
   "metadata": {},
   "outputs": [],
   "source": [
    "# import required module\n",
    "from sklearn.feature_extraction.text import TfidfVectorizer\n",
    "# Sklearn provided many text processing tools out of which above is to calculate the term frequency\n",
    "# for further help check https://scikit-learn.org/stable/modules/generated/sklearn.feature_extraction.text.TfidfVectorizer.html"
   ]
  },
  {
   "cell_type": "code",
   "execution_count": 11,
   "id": "41170f95",
   "metadata": {},
   "outputs": [],
   "source": [
    "# Prepare the Corpus \n",
    "string = [\n",
    "        'This is the first document.',\n",
    "        'This document is the second document.',\n",
    "        'And this is the third one.',\n",
    "        'This document is the fourth document.',\n",
    "        'And this is the fifth one.',\n",
    "        'This document is the sixth.',\n",
    "        'And this is the seventh one document.',\n",
    "        'This document is the eighth.',\n",
    "        'And this is the nineth one document.',\n",
    "        'This document is the second.',\n",
    "        'And this is the tenth one document.',\n",
    "    ]"
   ]
  },
  {
   "cell_type": "code",
   "execution_count": 12,
   "id": "94d991c3",
   "metadata": {},
   "outputs": [],
   "source": [
    "# create object\n",
    "tfidf = TfidfVectorizer()\n",
    "\n",
    "# get tf-df values\n",
    "result = tfidf.fit_transform(string)"
   ]
  },
  {
   "cell_type": "code",
   "execution_count": 13,
   "id": "8df9aa80",
   "metadata": {},
   "outputs": [
    {
     "name": "stdout",
     "output_type": "stream",
     "text": [
      "idf values:\n",
      "and : 1.6931471805599454\n",
      "document : 1.1823215567939547\n",
      "eighth : 2.791759469228055\n",
      "fifth : 2.791759469228055\n",
      "first : 2.791759469228055\n",
      "fourth : 2.791759469228055\n",
      "is : 1.0\n",
      "nineth : 2.791759469228055\n",
      "one : 1.6931471805599454\n",
      "second : 2.386294361119891\n",
      "seventh : 2.791759469228055\n",
      "sixth : 2.791759469228055\n",
      "tenth : 2.791759469228055\n",
      "the : 1.0\n",
      "third : 2.791759469228055\n",
      "this : 1.0\n"
     ]
    }
   ],
   "source": [
    "# get idf values\n",
    "print('idf values:')\n",
    "for ele1, ele2 in zip(tfidf.get_feature_names_out(), tfidf.idf_):\n",
    "\tprint(ele1, ':', ele2)"
   ]
  },
  {
   "cell_type": "markdown",
   "id": "e3fe877e",
   "metadata": {},
   "source": [
    "The IDF values are computed for each unique word in the corpus. The IDF measures the importance of a word in the corpus by considering its presence across all documents. Words that appear frequently across all documents get lower IDF scores, as they are considered less important. Conversely, words that appear in only a few documents get higher IDF scores, indicating their importance in distinguishing those documents."
   ]
  },
  {
   "cell_type": "code",
   "execution_count": 14,
   "id": "a1e2c321",
   "metadata": {},
   "outputs": [
    {
     "name": "stdout",
     "output_type": "stream",
     "text": [
      "\n",
      "Word indexes:\n",
      "{'this': 15, 'is': 6, 'the': 13, 'first': 4, 'document': 1, 'second': 9, 'and': 0, 'third': 14, 'one': 8, 'fourth': 5, 'fifth': 3, 'sixth': 11, 'seventh': 10, 'eighth': 2, 'nineth': 7, 'tenth': 12}\n"
     ]
    }
   ],
   "source": [
    "# get indexing\n",
    "print('\\nWord indexes:')\n",
    "print(tfidf.vocabulary_)"
   ]
  },
  {
   "cell_type": "markdown",
   "id": "d09d1c61",
   "metadata": {},
   "source": [
    "The vocabulary_ attribute of the TfidfVectorizer provides the word-to-index mapping. It assigns an index to each unique word in the corpus. Here, the index corresponds to the position of the word in the IDF values and TF-IDF matrix."
   ]
  },
  {
   "cell_type": "code",
   "execution_count": 15,
   "id": "2a2a7ec0",
   "metadata": {},
   "outputs": [
    {
     "name": "stdout",
     "output_type": "stream",
     "text": [
      "\n",
      "tf-idf value:\n",
      "  (0, 1)\t0.3386114196354545\n",
      "  (0, 4)\t0.7995469859480685\n",
      "  (0, 13)\t0.28639536993104564\n",
      "  (0, 6)\t0.28639536993104564\n",
      "  (0, 15)\t0.28639536993104564\n",
      "  (1, 9)\t0.6313492037071095\n",
      "  (1, 1)\t0.625620866871847\n",
      "  (1, 13)\t0.26457306105807354\n",
      "  (1, 6)\t0.26457306105807354\n",
      "  (1, 15)\t0.26457306105807354\n",
      "  (2, 8)\t0.4164781643870174\n",
      "  (2, 14)\t0.6867134012352383\n",
      "  (2, 0)\t0.4164781643870174\n",
      "  (2, 13)\t0.24597871299604487\n",
      "  (2, 6)\t0.24597871299604487\n",
      "  (2, 15)\t0.24597871299604487\n",
      "  (3, 5)\t0.6896817045790951\n",
      "  (3, 1)\t0.5841660469952564\n",
      "  (3, 13)\t0.2470419504907412\n",
      "  (3, 6)\t0.2470419504907412\n",
      "  (3, 15)\t0.2470419504907412\n",
      "  (4, 3)\t0.6867134012352383\n",
      "  (4, 8)\t0.4164781643870174\n",
      "  (4, 0)\t0.4164781643870174\n",
      "  (4, 13)\t0.24597871299604487\n",
      "  :\t:\n",
      "  (6, 15)\t0.23619287048202153\n",
      "  (7, 2)\t0.7995469859480685\n",
      "  (7, 1)\t0.3386114196354545\n",
      "  (7, 13)\t0.28639536993104564\n",
      "  (7, 6)\t0.28639536993104564\n",
      "  (7, 15)\t0.28639536993104564\n",
      "  (8, 7)\t0.6593936827323392\n",
      "  (8, 8)\t0.3999092927249951\n",
      "  (8, 0)\t0.3999092927249951\n",
      "  (8, 1)\t0.27925592233193663\n",
      "  (8, 13)\t0.23619287048202153\n",
      "  (8, 6)\t0.23619287048202153\n",
      "  (8, 15)\t0.23619287048202153\n",
      "  (9, 9)\t0.7511544786106841\n",
      "  (9, 1)\t0.37216956424728176\n",
      "  (9, 13)\t0.31477863370475656\n",
      "  (9, 6)\t0.31477863370475656\n",
      "  (9, 15)\t0.31477863370475656\n",
      "  (10, 12)\t0.6593936827323392\n",
      "  (10, 8)\t0.3999092927249951\n",
      "  (10, 0)\t0.3999092927249951\n",
      "  (10, 1)\t0.27925592233193663\n",
      "  (10, 13)\t0.23619287048202153\n",
      "  (10, 6)\t0.23619287048202153\n",
      "  (10, 15)\t0.23619287048202153\n"
     ]
    }
   ],
   "source": [
    "# display tf-idf values\n",
    "print('\\ntf-idf value:')\n",
    "print(result)"
   ]
  },
  {
   "cell_type": "markdown",
   "id": "e6c4c68e",
   "metadata": {},
   "source": [
    "The TF-IDF values are represented as a sparse matrix, where each row corresponds to a document, and each column corresponds to a word index from the vocabulary. The values represent the TF-IDF score for each word in each document. Non-zero entries indicate that a particular word appears in the corresponding document, and the value represents its TF-IDF score."
   ]
  },
  {
   "cell_type": "code",
   "execution_count": 16,
   "id": "6a30aa5f",
   "metadata": {},
   "outputs": [
    {
     "name": "stdout",
     "output_type": "stream",
     "text": [
      "\n",
      "tf-idf values in matrix form:\n",
      "[[0.         0.33861142 0.         0.         0.79954699 0.\n",
      "  0.28639537 0.         0.         0.         0.         0.\n",
      "  0.         0.28639537 0.         0.28639537]\n",
      " [0.         0.62562087 0.         0.         0.         0.\n",
      "  0.26457306 0.         0.         0.6313492  0.         0.\n",
      "  0.         0.26457306 0.         0.26457306]\n",
      " [0.41647816 0.         0.         0.         0.         0.\n",
      "  0.24597871 0.         0.41647816 0.         0.         0.\n",
      "  0.         0.24597871 0.6867134  0.24597871]\n",
      " [0.         0.58416605 0.         0.         0.         0.6896817\n",
      "  0.24704195 0.         0.         0.         0.         0.\n",
      "  0.         0.24704195 0.         0.24704195]\n",
      " [0.41647816 0.         0.         0.6867134  0.         0.\n",
      "  0.24597871 0.         0.41647816 0.         0.         0.\n",
      "  0.         0.24597871 0.         0.24597871]\n",
      " [0.         0.33861142 0.         0.         0.         0.\n",
      "  0.28639537 0.         0.         0.         0.         0.79954699\n",
      "  0.         0.28639537 0.         0.28639537]\n",
      " [0.39990929 0.27925592 0.         0.         0.         0.\n",
      "  0.23619287 0.         0.39990929 0.         0.65939368 0.\n",
      "  0.         0.23619287 0.         0.23619287]\n",
      " [0.         0.33861142 0.79954699 0.         0.         0.\n",
      "  0.28639537 0.         0.         0.         0.         0.\n",
      "  0.         0.28639537 0.         0.28639537]\n",
      " [0.39990929 0.27925592 0.         0.         0.         0.\n",
      "  0.23619287 0.65939368 0.39990929 0.         0.         0.\n",
      "  0.         0.23619287 0.         0.23619287]\n",
      " [0.         0.37216956 0.         0.         0.         0.\n",
      "  0.31477863 0.         0.         0.75115448 0.         0.\n",
      "  0.         0.31477863 0.         0.31477863]\n",
      " [0.39990929 0.27925592 0.         0.         0.         0.\n",
      "  0.23619287 0.         0.39990929 0.         0.         0.\n",
      "  0.65939368 0.23619287 0.         0.23619287]]\n"
     ]
    }
   ],
   "source": [
    "# in matrix form\n",
    "print('\\ntf-idf values in matrix form:')\n",
    "print(result.toarray())"
   ]
  },
  {
   "cell_type": "markdown",
   "id": "34974a9d",
   "metadata": {},
   "source": [
    "Here, the TF-IDF values are represented in dense matrix form (numpy array) for better readability. Each row corresponds to a document, and each column corresponds to a word index from the vocabulary. The values represent the TF-IDF score for each word in each document. Zero values indicate that a particular word does not appear in the corresponding document."
   ]
  },
  {
   "cell_type": "code",
   "execution_count": null,
   "id": "c8067c4f",
   "metadata": {},
   "outputs": [],
   "source": [
    "# get TF values\n",
    "print('\\nWord indexes:')\n",
    "print(tfidf.)"
   ]
  }
 ],
 "metadata": {
  "kernelspec": {
   "display_name": "Python 3 (ipykernel)",
   "language": "python",
   "name": "python3"
  },
  "language_info": {
   "codemirror_mode": {
    "name": "ipython",
    "version": 3
   },
   "file_extension": ".py",
   "mimetype": "text/x-python",
   "name": "python",
   "nbconvert_exporter": "python",
   "pygments_lexer": "ipython3",
   "version": "3.9.12"
  }
 },
 "nbformat": 4,
 "nbformat_minor": 5
}
