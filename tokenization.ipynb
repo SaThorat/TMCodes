{
 "cells": [
  {
   "cell_type": "markdown",
   "metadata": {
    "id": "19mFO6-uo0T1"
   },
   "source": [
    "## Demosntration of Tokenization using *`nltk`*"
   ]
  },
  {
   "cell_type": "markdown",
   "metadata": {
    "id": "rdSZ8PIApAk7"
   },
   "source": [
    "### 1. Import **`nltk`** library and from nltk import **`sent_tokenize`** to tokenize sentences and **`word_tokenize`** to tokenize the words"
   ]
  },
  {
   "cell_type": "code",
   "execution_count": 1,
   "metadata": {
    "id": "Xl1_K_xsowE1"
   },
   "outputs": [
    {
     "name": "stderr",
     "output_type": "stream",
     "text": [
      "[nltk_data] Downloading package punkt to\n",
      "[nltk_data]     C:\\Users\\Sandeep\\AppData\\Roaming\\nltk_data...\n",
      "[nltk_data]   Package punkt is already up-to-date!\n"
     ]
    }
   ],
   "source": [
    "import nltk\n",
    "nltk.download('punkt')\n",
    "from nltk.tokenize import sent_tokenize, word_tokenize"
   ]
  },
  {
   "cell_type": "code",
   "execution_count": 2,
   "metadata": {
    "id": "CoqP7Jazpscw"
   },
   "outputs": [],
   "source": [
    "# Text Input\n",
    "text = \"Hello there! How are you doing? I'm excited to learn about tokenization.\""
   ]
  },
  {
   "cell_type": "markdown",
   "metadata": {
    "id": "_8EVwae6qJaE"
   },
   "source": [
    "### Use *`sent_tokenize`* to tokenize the sentences in given input"
   ]
  },
  {
   "cell_type": "code",
   "execution_count": 3,
   "metadata": {
    "colab": {
     "base_uri": "https://localhost:8080/"
    },
    "id": "51SU6IDop0PN",
    "outputId": "7078f3df-36de-437e-8bdf-8e394fddbb2d"
   },
   "outputs": [
    {
     "name": "stdout",
     "output_type": "stream",
     "text": [
      "\n",
      "Step 2: Sentence Tokenization\n",
      "['Hello there!', 'How are you doing?', \"I'm excited to learn about tokenization.\"]\n"
     ]
    }
   ],
   "source": [
    "# Sentence Tokenization\n",
    "sentences = sent_tokenize(text)\n",
    "\n",
    "print(\"\\nStep 2: Sentence Tokenization\")\n",
    "print(sentences)"
   ]
  },
  {
   "cell_type": "markdown",
   "metadata": {
    "id": "zU48aqyeqx4x"
   },
   "source": [
    "### Perform word tokenization in which we will use the *`word_tokenize`*"
   ]
  },
  {
   "cell_type": "code",
   "execution_count": 4,
   "metadata": {
    "colab": {
     "base_uri": "https://localhost:8080/"
    },
    "id": "YCNtty9mqiCk",
    "outputId": "b6d7a603-6ea7-479b-efe0-057c0d6f9b11"
   },
   "outputs": [
    {
     "name": "stdout",
     "output_type": "stream",
     "text": [
      "\n",
      "Step 3: Word Tokenization\n",
      "['Hello', 'there', '!', 'How', 'are', 'you', 'doing', '?', 'I', \"'m\", 'excited', 'to', 'learn', 'about', 'tokenization', '.']\n"
     ]
    }
   ],
   "source": [
    "# Word Tokenization\n",
    "words = []\n",
    "for sentence in sentences:\n",
    "    words.extend(word_tokenize(sentence))\n",
    "\n",
    "\n",
    "print(\"\\nStep 3: Word Tokenization\")\n",
    "print(words)"
   ]
  },
  {
   "cell_type": "markdown",
   "metadata": {
    "id": "BASnV-acrWtN"
   },
   "source": [
    "### 4. In this step we will try to remove the punctuation marks from given tokens *`.isalpha()`* function. This function Returns True if all characters in S are alphabetic and there is at least one character in S, False otherwise."
   ]
  },
  {
   "cell_type": "code",
   "execution_count": 10,
   "metadata": {
    "colab": {
     "base_uri": "https://localhost:8080/"
    },
    "id": "NCX8DFSWrAfx",
    "outputId": "2ca1edb6-1902-4280-828d-f65216e0f565"
   },
   "outputs": [
    {
     "name": "stdout",
     "output_type": "stream",
     "text": [
      "\n",
      "Step 4: Punctuation and Case Handling\n",
      "['hello', 'there', 'how', 'are', 'you', 'doing', 'i', 'excited', 'to', 'learn', 'about', 'tokenization']\n"
     ]
    }
   ],
   "source": [
    "# Step 4: Punctuation and Case Handling\n",
    "cleaned_words = [word.lower() for word in words if word.isalpha()]\n",
    "\n",
    "print(\"\\nStep 4: Punctuation and Case Handling\")\n",
    "print(cleaned_words)\n"
   ]
  }
 ],
 "metadata": {
  "colab": {
   "provenance": []
  },
  "kernelspec": {
   "display_name": "Python 3 (ipykernel)",
   "language": "python",
   "name": "python3"
  },
  "language_info": {
   "codemirror_mode": {
    "name": "ipython",
    "version": 3
   },
   "file_extension": ".py",
   "mimetype": "text/x-python",
   "name": "python",
   "nbconvert_exporter": "python",
   "pygments_lexer": "ipython3",
   "version": "3.9.12"
  }
 },
 "nbformat": 4,
 "nbformat_minor": 1
}
