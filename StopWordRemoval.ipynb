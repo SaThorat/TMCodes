{
 "cells": [
  {
   "cell_type": "markdown",
   "id": "d079036b",
   "metadata": {},
   "source": [
    "## Demosntration of Stop Word Removal\n"
   ]
  },
  {
   "cell_type": "code",
   "execution_count": 4,
   "id": "98e0c1db",
   "metadata": {},
   "outputs": [],
   "source": [
    "import nltk"
   ]
  },
  {
   "cell_type": "code",
   "execution_count": 5,
   "id": "12adf5e6",
   "metadata": {},
   "outputs": [
    {
     "name": "stderr",
     "output_type": "stream",
     "text": [
      "[nltk_data] Downloading package stopwords to\n",
      "[nltk_data]     C:\\Users\\Sandeep\\AppData\\Roaming\\nltk_data...\n",
      "[nltk_data]   Unzipping corpora\\stopwords.zip.\n"
     ]
    },
    {
     "data": {
      "text/plain": [
       "True"
      ]
     },
     "execution_count": 5,
     "metadata": {},
     "output_type": "execute_result"
    }
   ],
   "source": [
    "nltk.download('stopwords')"
   ]
  },
  {
   "cell_type": "code",
   "execution_count": 12,
   "id": "672e148f",
   "metadata": {},
   "outputs": [],
   "source": [
    "from nltk.corpus import stopwords"
   ]
  },
  {
   "cell_type": "code",
   "execution_count": 13,
   "id": "a1924a7e",
   "metadata": {},
   "outputs": [],
   "source": [
    "example = \"This is an example of stop word filteration.\""
   ]
  },
  {
   "cell_type": "code",
   "execution_count": 14,
   "id": "6bf9f489",
   "metadata": {},
   "outputs": [],
   "source": [
    "stop_words =  set (stopwords.words(\"english\")) # set of the stopwords from english language"
   ]
  },
  {
   "cell_type": "code",
   "execution_count": 15,
   "id": "726519a3",
   "metadata": {},
   "outputs": [
    {
     "name": "stdout",
     "output_type": "stream",
     "text": [
      "{'before', \"you'll\", 'same', 'theirs', 'being', 'yourselves', 'from', \"should've\", 'very', \"you've\", 'other', 'ourselves', 'couldn', 'hadn', 'the', 'once', 're', 'but', 'here', \"couldn't\", 'at', 'were', 'mustn', 'herself', 'their', 'only', 'his', 'shouldn', 'against', 'out', 'who', 'should', 'while', 'now', 'off', 'with', 'i', 'about', 'can', 'above', 'most', 'ours', 'hers', 'them', 'they', 'been', 'what', 'doesn', \"wasn't\", 'to', 'nor', \"mightn't\", 'was', \"you'd\", 'this', 'such', 'does', 'didn', 'just', 'why', 'over', 'few', 'had', 'did', \"you're\", 'her', 'themselves', 'isn', 'that', 'needn', 'wasn', 'a', 'having', 'between', 'your', 'd', 'm', 'itself', 'himself', 'then', 'aren', 'until', 'after', 'y', \"shan't\", 'when', 'through', 'there', 'up', \"hasn't\", \"won't\", 'ma', 'have', \"don't\", 'don', 'an', 'she', 'him', 'so', 'won', 'yourself', 'further', 'ain', 'myself', 'which', 'by', 'all', 'doing', 'hasn', \"wouldn't\", 'below', 'any', 'my', 'no', \"mustn't\", 'those', 'its', 'if', \"isn't\", 'more', \"haven't\", 'mightn', \"needn't\", 'in', 'shan', 'how', 'as', 'it', \"she's\", 'because', \"that'll\", \"weren't\", 'are', 've', 'do', 'we', 'for', 'too', 'where', 'wouldn', 'll', \"hadn't\", \"it's\", 'he', \"shouldn't\", 'not', 'o', 'down', 'will', \"doesn't\", 't', 'both', 'each', 'me', 'our', 'yours', 'whom', 'or', 'am', 'under', 'on', \"aren't\", 'weren', 'into', 'you', 'is', 'haven', 'these', 'be', 'during', 'of', \"didn't\", 'has', 'some', 'own', 'and', 's', 'than', 'again'}\n"
     ]
    }
   ],
   "source": [
    "print(stop_words)"
   ]
  },
  {
   "cell_type": "code",
   "execution_count": 35,
   "id": "2ba9d2fd",
   "metadata": {},
   "outputs": [],
   "source": [
    "from nltk.tokenize import word_tokenize\n",
    "# for more details on word_totokenize visit https://www.nltk.org/api/nltk.tokenize.html"
   ]
  },
  {
   "cell_type": "code",
   "execution_count": 37,
   "id": "8add240a",
   "metadata": {},
   "outputs": [
    {
     "name": "stderr",
     "output_type": "stream",
     "text": [
      "[nltk_data] Downloading package punkt to\n",
      "[nltk_data]     C:\\Users\\Sandeep\\AppData\\Roaming\\nltk_data...\n",
      "[nltk_data]   Package punkt is already up-to-date!\n"
     ]
    },
    {
     "data": {
      "text/plain": [
       "True"
      ]
     },
     "execution_count": 37,
     "metadata": {},
     "output_type": "execute_result"
    }
   ],
   "source": [
    "nltk.download('punkt')"
   ]
  },
  {
   "cell_type": "code",
   "execution_count": 38,
   "id": "733d19e8",
   "metadata": {},
   "outputs": [],
   "source": [
    "word_tokens = word_tokenize(example)\n",
    "# converts the words in word_tokens to lower case "
   ]
  },
  {
   "cell_type": "code",
   "execution_count": 39,
   "id": "c6542347",
   "metadata": {},
   "outputs": [
    {
     "name": "stdout",
     "output_type": "stream",
     "text": [
      "['This', 'is', 'an', 'example', 'of', 'stop', 'word', 'filteration', '.']\n"
     ]
    }
   ],
   "source": [
    "print(word_tokens)"
   ]
  },
  {
   "cell_type": "code",
   "execution_count": 40,
   "id": "b1a91664",
   "metadata": {},
   "outputs": [],
   "source": [
    "filtered_sentence = [w for w in word_tokens if not w.lower() in stop_words]\n",
    "#with no lower case conversion"
   ]
  },
  {
   "cell_type": "code",
   "execution_count": 41,
   "id": "d79a4ecf",
   "metadata": {},
   "outputs": [
    {
     "name": "stdout",
     "output_type": "stream",
     "text": [
      "['example', 'stop', 'word', 'filteration', '.']\n"
     ]
    }
   ],
   "source": [
    "print(filtered_sentence)"
   ]
  },
  {
   "cell_type": "code",
   "execution_count": null,
   "id": "3ea62932",
   "metadata": {},
   "outputs": [],
   "source": []
  }
 ],
 "metadata": {
  "kernelspec": {
   "display_name": "Python 3 (ipykernel)",
   "language": "python",
   "name": "python3"
  },
  "language_info": {
   "codemirror_mode": {
    "name": "ipython",
    "version": 3
   },
   "file_extension": ".py",
   "mimetype": "text/x-python",
   "name": "python",
   "nbconvert_exporter": "python",
   "pygments_lexer": "ipython3",
   "version": "3.9.12"
  }
 },
 "nbformat": 4,
 "nbformat_minor": 5
}
